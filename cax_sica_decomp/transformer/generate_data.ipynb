{
 "cells": [
  {
   "cell_type": "markdown",
   "metadata": {},
   "source": [
    "Importing cellular automata & optimization classes, and other stuff"
   ]
  },
  {
   "cell_type": "code",
   "execution_count": 6,
   "metadata": {},
   "outputs": [
    {
     "ename": "ModuleNotFoundError",
     "evalue": "No module named 'pandas'",
     "output_type": "error",
     "traceback": [
      "\u001b[1;31m---------------------------------------------------------------------------\u001b[0m",
      "\u001b[1;31mModuleNotFoundError\u001b[0m                       Traceback (most recent call last)",
      "Cell \u001b[1;32mIn[6], line 18\u001b[0m\n\u001b[0;32m     15\u001b[0m \u001b[38;5;28;01mfrom\u001b[39;00m\u001b[38;5;250m \u001b[39m\u001b[38;5;21;01mcax_sica_decomp\u001b[39;00m\u001b[38;5;21;01m.\u001b[39;00m\u001b[38;5;21;01mobjectives\u001b[39;00m\u001b[38;5;250m \u001b[39m\u001b[38;5;28;01mimport\u001b[39;00m surface_to_vol\n\u001b[0;32m     17\u001b[0m \u001b[38;5;28;01mimport\u001b[39;00m\u001b[38;5;250m \u001b[39m\u001b[38;5;21;01mnumpy\u001b[39;00m\u001b[38;5;250m \u001b[39m\u001b[38;5;28;01mas\u001b[39;00m\u001b[38;5;250m \u001b[39m\u001b[38;5;21;01mnp\u001b[39;00m\n\u001b[1;32m---> 18\u001b[0m \u001b[38;5;28;01mimport\u001b[39;00m\u001b[38;5;250m \u001b[39m\u001b[38;5;21;01mpandas\u001b[39;00m\u001b[38;5;250m \u001b[39m\u001b[38;5;28;01mas\u001b[39;00m\u001b[38;5;250m \u001b[39m\u001b[38;5;21;01mpd\u001b[39;00m\n",
      "\u001b[1;31mModuleNotFoundError\u001b[0m: No module named 'pandas'"
     ]
    }
   ],
   "source": [
    "import os\n",
    "import sys\n",
    "import shutil\n",
    "\n",
    "from typing import List, Type, Callable, Dict\n",
    "from numpy import int32\n",
    "from numpy._typing import NDArray\n",
    "import importlib\n",
    "\n",
    "sys.path.append(os.path.dirname(os.path.dirname(os.path.abspath(''))))\n",
    "\n",
    "#from cax_sica_decomp.blender import Lattice, clear_initial\n",
    "from cax_sica_decomp.ruleset import conway, seeds, RuleSet\n",
    "from cax_sica_decomp.genetic import Optimizer, Mutator, RulesetMutator, ArbitraryRulesetMutator, MutationSet\n",
    "from cax_sica_decomp.objectives import surface_to_vol\n",
    "\n",
    "import numpy as np\n",
    "import pandas as pd"
   ]
  },
  {
   "cell_type": "markdown",
   "metadata": {},
   "source": [
    "Setting up optimizer and data logging code"
   ]
  },
  {
   "cell_type": "code",
   "execution_count": 5,
   "metadata": {},
   "outputs": [],
   "source": [
    "def log_mutation(data_list: List[Dict], mutations: List[MutationSet], objective_val: float):\n",
    "    \"\"\"\n",
    "    Given the data list reference, the mutation set, and the objective value after applying it, add it to the data logging list\n",
    "    \"\"\"\n",
    "    ic_cell_pos = []\n",
    "    ic_state_old = []\n",
    "    ic_state_new = []\n",
    "    srt_cell_pos = []\n",
    "    srt_state_old = []\n",
    "    srt_state_new = []\n",
    "\n",
    "    for ic_mut in mutations.ic_mutations:\n",
    "        ic_cell_pos.append(ic_mut.cell_pos)\n",
    "        ic_state_old.append(ic_mut.old_state)\n",
    "        ic_state_new.append(ic_mut.new_state)\n",
    "    for srt_mut in mutations.srt_mutations:\n",
    "        srt_cell_pos.append(srt_mut.cell_pos)\n",
    "        srt_state_old.append(srt_mut.old_state)\n",
    "        srt_state_new.append(srt_mut.new_state)\n",
    "    \n",
    "    data_list.append({\n",
    "        \"ic_cell_pos\": np.array(ic_cell_pos), \n",
    "        \"ic_state_old\": np.array(ic_state_old), \n",
    "        \"ic_state_new\": np.array(ic_state_new), \n",
    "        \"srt_cell_pos\": np.array(srt_cell_pos), \n",
    "        \"srt_state_old\": np.array(srt_state_old), \n",
    "        \"srt_state_new\": np.array(srt_state_new), \n",
    "        \"objective\": objective_val,\n",
    "    })\n",
    "\n",
    "def run_experiment(iters: int, grid_sz: int, ruleset_mutator_class: Type[Mutator], rule_set: List[RuleSet], opt_func: Callable[[NDArray[int32]], int],\n",
    "                   srt_num_mutate: int, ic_num_mutate: int, rule_mutate_prob: float):\n",
    "    \"\"\"\n",
    "    Runs an experiment with the below hyperparameters:\n",
    "\n",
    "    :param iters: The number of iterations the mutation algorithm (updating both IC and SRT) is going to run for\n",
    "    :param grid_sz: The size of the square grid that we're going to update each iteration\n",
    "    :param ruleset_mutator_class: The class of the SRT mutator we're going to use for this experiment\n",
    "    :param rule_set: The set of rules that the SRT initially has (picked at random for each cell, then scrambled by the mutator)\n",
    "    :param opt_func: The functions that gives the performance metric we're going to optimize\n",
    "    :param srt_num_mutate: The number of SRT cells for which we're going to mutate the rule applied, each iteration\n",
    "    :param ic_num_mutate: The number of IC cells for which we're going to mutate the rule applied, each iteration\n",
    "    :param rule_mutate_prob: The probability, for each neighbor state tensor of the rule of a cell that's selected to be mutated, the final state is mutated\n",
    "    \"\"\"\n",
    "    # TODO: separate SRT and IC mutations to have a certain number of each\n",
    "    # TODO: add a flag to enable doing only SRT or only IC mutations in an iteration (in optimizer step, and then propagate into mutator)\n",
    "    ruleset_mutator = ruleset_mutator_class(rules=rule_set, grid_size=grid_sz, mutate_p=1/(grid_sz**2) * (srt_num_mutate+ic_num_mutate), rule_mutate_p=rule_mutate_prob)\n",
    "\n",
    "    optim = Optimizer(mutator=ruleset_mutator, objective=lambda grid: opt_func(grid))\n",
    "\n",
    "    \"\"\"\n",
    "    Pandas Dataframe used to log experiment data is:\n",
    "\n",
    "    ic_cell_pos (np.array) | ic_state_old (np.array) | ic_state_new (np.array) | srt_cell_pos (np.array) | srt_state_old (np.array) | srt_state_new (np.array) | objective (float)\n",
    "    \n",
    "    etc.\n",
    "\n",
    "    initial state for IC is in entry 0 in ic_state_old, and SRT is in entry 0 in srt_state_old\n",
    "\n",
    "    ic and srt mutation cell positions and states can have an extra dimension in the beginning to indicate they are batch updates\n",
    "    \"\"\"\n",
    "\n",
    "    init_state = optim.state\n",
    "    \n",
    "    data_list = [{\"ic_cell_pos\": grid_sz, \n",
    "                  \"ic_state_old\": init_state.initial, \n",
    "                  \"ic_state_new\": None, \n",
    "                  \"srt_cell_pos\": -1, \n",
    "                  \"srt_state_old\": init_state.rules, \n",
    "                  \"srt_state_new\": None, \n",
    "                  \"objective\": 0}]\n",
    "\n",
    "    for it in range(iters):\n",
    "        # print(f\"On iteration {it+1}...\")\n",
    "        accepted, new, old, mutations = optim.step()\n",
    "\n",
    "        # data logging\n",
    "        log_mutation(data_list, mutations, optim.objvalue)\n",
    "\n",
    "        # if accepted:\n",
    "        #     print(\"Got a better state!\", optim.objvalue)\n",
    "\n",
    "    # print(data_list)\n",
    "    df = pd.DataFrame(data_list)\n",
    "    # print(df)\n",
    "    return df\n",
    "\n",
    "def repeat_experiment(experiment_name: str, num_expers: int, *args):\n",
    "    \"\"\"\n",
    "    Perform (sequentially) multiple experiments that return a Pandas DataFrame and save all the data\n",
    "\n",
    "    :param experiment_name: The name of the experiment to save the file\n",
    "    :param num_expers: Number of times to run the experiment (and save all the data in one file)\n",
    "    :param *args: The arguments to be passed to the experiment function\n",
    "    \"\"\"\n",
    "    for i in range(num_expers):\n",
    "        print(f'REPETITION {i}')\n",
    "        ret_data = run_experiment(*args)\n",
    "        ret_data.to_hdf(f'data/{experiment_name}_{i}.h5', key='data', mode='a')\n"
   ]
  },
  {
   "cell_type": "markdown",
   "metadata": {},
   "source": [
    "Setting up experiments and gathering data"
   ]
  },
  {
   "cell_type": "code",
   "execution_count": 1,
   "metadata": {},
   "outputs": [
    {
     "name": "stdout",
     "output_type": "stream",
     "text": [
      "RUNNING EXPERIMENT test_experiment WITH 100 ITERATIONS AND 32 SIZE GRID\n"
     ]
    },
    {
     "ename": "NameError",
     "evalue": "name 'repeat_experiment' is not defined",
     "output_type": "error",
     "traceback": [
      "\u001b[1;31m---------------------------------------------------------------------------\u001b[0m",
      "\u001b[1;31mNameError\u001b[0m                                 Traceback (most recent call last)",
      "Cell \u001b[1;32mIn[1], line 9\u001b[0m\n\u001b[0;32m      7\u001b[0m \u001b[38;5;28;01mfor\u001b[39;00m grid_sz \u001b[38;5;129;01min\u001b[39;00m GRID_SIZE_SET:\n\u001b[0;32m      8\u001b[0m     \u001b[38;5;28mprint\u001b[39m(\u001b[38;5;124mf\u001b[39m\u001b[38;5;124m\"\u001b[39m\u001b[38;5;124mRUNNING EXPERIMENT \u001b[39m\u001b[38;5;132;01m{\u001b[39;00mEXPERIMENT_NAME\u001b[38;5;132;01m}\u001b[39;00m\u001b[38;5;124m WITH \u001b[39m\u001b[38;5;132;01m{\u001b[39;00miters\u001b[38;5;132;01m}\u001b[39;00m\u001b[38;5;124m ITERATIONS AND \u001b[39m\u001b[38;5;132;01m{\u001b[39;00mgrid_sz\u001b[38;5;132;01m}\u001b[39;00m\u001b[38;5;124m SIZE GRID\u001b[39m\u001b[38;5;124m\"\u001b[39m)\n\u001b[1;32m----> 9\u001b[0m     \u001b[43mrepeat_experiment\u001b[49m(\u001b[38;5;124mf\u001b[39m\u001b[38;5;124m\"\u001b[39m\u001b[38;5;132;01m{\u001b[39;00mEXPERIMENT_NAME\u001b[38;5;132;01m}\u001b[39;00m\u001b[38;5;124m_\u001b[39m\u001b[38;5;132;01m{\u001b[39;00miters\u001b[38;5;132;01m}\u001b[39;00m\u001b[38;5;124mITERS_\u001b[39m\u001b[38;5;132;01m{\u001b[39;00mgrid_sz\u001b[38;5;132;01m}\u001b[39;00m\u001b[38;5;124mGRID\u001b[39m\u001b[38;5;124m\"\u001b[39m, NUM_REPEAT, iters, grid_sz, ArbitraryRulesetMutator, [conway(), seeds()], surface_to_vol, \u001b[38;5;241m10\u001b[39m, \u001b[38;5;241m10\u001b[39m, \u001b[38;5;241m2\u001b[39m\u001b[38;5;241m/\u001b[39m\u001b[38;5;241m3\u001b[39m)\n",
      "\u001b[1;31mNameError\u001b[0m: name 'repeat_experiment' is not defined"
     ]
    }
   ],
   "source": [
    "ITERATIONS_SET = [100]\n",
    "GRID_SIZE_SET = [32]\n",
    "NUM_REPEAT = 50\n",
    "EXPERIMENT_NAME = \"test_experiment\"\n",
    "\n",
    "for iters in ITERATIONS_SET:\n",
    "    for grid_sz in GRID_SIZE_SET:\n",
    "        print(f\"RUNNING EXPERIMENT {EXPERIMENT_NAME} WITH {iters} ITERATIONS AND {grid_sz} SIZE GRID\")\n",
    "        repeat_experiment(f\"{EXPERIMENT_NAME}_{iters}ITERS_{grid_sz}GRID\", NUM_REPEAT, iters, grid_sz, ArbitraryRulesetMutator, [conway(), seeds()], surface_to_vol, 10, 10, 2/3)"
   ]
  }
 ],
 "metadata": {
  "kernelspec": {
   "display_name": "pytorch_cuda_12_8",
   "language": "python",
   "name": "python3"
  },
  "language_info": {
   "codemirror_mode": {
    "name": "ipython",
    "version": 3
   },
   "file_extension": ".py",
   "mimetype": "text/x-python",
   "name": "python",
   "nbconvert_exporter": "python",
   "pygments_lexer": "ipython3",
   "version": "3.10.18"
  }
 },
 "nbformat": 4,
 "nbformat_minor": 2
}
