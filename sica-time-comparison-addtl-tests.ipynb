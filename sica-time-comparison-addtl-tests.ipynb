{
 "cells": [
  {
   "cell_type": "markdown",
   "id": "78e09bdf",
   "metadata": {},
   "source": [
    "SICA Time Comparison- Additional Tests - Only Compatible with Attempt 2- Only for Time Complexity Calculations for Attempt 2"
   ]
  },
  {
   "cell_type": "markdown",
   "id": "f8fe14b6",
   "metadata": {},
   "source": [
    "Part 1: Dataset Generation"
   ]
  },
  {
   "cell_type": "markdown",
   "id": "be43d685",
   "metadata": {},
   "source": [
    "Step 1: Import relevant state functions and packages"
   ]
  },
  {
   "cell_type": "code",
   "execution_count": null,
   "id": "76122179",
   "metadata": {},
   "outputs": [],
   "source": [
    "from cax_sica.genetic.state import CurrentState as st2\n",
    "\n",
    "import numpy as np\n",
    "import jax.numpy as jnp\n",
    "import time\n",
    "from typing import List, Tuple"
   ]
  },
  {
   "cell_type": "markdown",
   "id": "25139436",
   "metadata": {},
   "source": [
    "Part 2: Testing Dim/Num Timesteps against Time Required for SICA Simulation: Trial 1: Dim Testing"
   ]
  },
  {
   "cell_type": "code",
   "execution_count": null,
   "id": "8435b6c1",
   "metadata": {},
   "outputs": [],
   "source": [
    "#Requires about 2.8 hours of runtime.\n",
    "data: List[Tuple] = []\n",
    "iter = 6\n",
    "def generateicsrt(dim, num_steps, example = 0):\n",
    "    ic = np.random.choice([0,0,0,1], size=(dim, dim))\n",
    "    srt = np.random.choice([0,0,0,0,0,1], size=(num_steps, dim, dim, 18))\n",
    "    return ic, srt\n",
    "for i in range(100, 1010, 10):\n",
    "    print(f\"OPERATING DIM: {i}\")\n",
    "    for _ in range(iter):\n",
    "        print(f\"ITER {_}\")\n",
    "        stepdim = [i,100,0]\n",
    "        icsrt = generateicsrt(stepdim[0], stepdim[1])\n",
    "        ic = icsrt[0]\n",
    "        srt = icsrt[1]\n",
    "        time_init = time.time()\n",
    "        state = st2(initial=ic, rules=srt)\n",
    "        st2res = state.generate()\n",
    "        data.append((i,time.time()-time_init))\n",
    "\n",
    "\n"
   ]
  },
  {
   "cell_type": "code",
   "execution_count": null,
   "id": "2337b406",
   "metadata": {},
   "outputs": [],
   "source": []
  },
  {
   "cell_type": "markdown",
   "id": "02839973",
   "metadata": {},
   "source": [
    "Trial 2: Timestep Testing\n"
   ]
  },
  {
   "cell_type": "code",
   "execution_count": null,
   "id": "8791b02e",
   "metadata": {},
   "outputs": [],
   "source": [
    "#Requires about 1.5 hours of runtime.\n",
    "data_time: List[Tuple] = []\n",
    "iter = 6\n",
    "def generateicsrt(dim, num_steps, example = 0):\n",
    "    ic = np.random.choice([0,0,0,1], size=(dim, dim))\n",
    "    srt = np.random.choice([0,0,0,0,0,1], size=(num_steps, dim, dim, 18))\n",
    "    return ic, srt\n",
    "for i in range(100, 1010, 10):\n",
    "    print(f\"OPERATING TIMESTEP CT: {i}\")\n",
    "    for _ in range(iter):\n",
    "        print(f\"ITER {_}\")\n",
    "        stepdim = [200,i,0]\n",
    "        icsrt = generateicsrt(stepdim[0], stepdim[1])\n",
    "        ic = icsrt[0]\n",
    "        srt = icsrt[1]\n",
    "        time_init = time.time()\n",
    "        state = st2(initial=ic, rules=srt)\n",
    "        st2res = state.generate()\n",
    "        data_time.append((i,time.time()-time_init))\n",
    "\n",
    "\n"
   ]
  },
  {
   "cell_type": "markdown",
   "id": "4e3103c3",
   "metadata": {},
   "source": [
    "Step 3: Report results (Optional, used for data export)"
   ]
  },
  {
   "cell_type": "code",
   "execution_count": null,
   "id": "6255fad0",
   "metadata": {},
   "outputs": [],
   "source": [
    "print(data)\n",
    "print(data_time)"
   ]
  },
  {
   "cell_type": "markdown",
   "id": "d6e38912",
   "metadata": {},
   "source": [
    "Part 2: Data Analysis and Plotting"
   ]
  },
  {
   "cell_type": "markdown",
   "id": "c842b48e",
   "metadata": {},
   "source": [
    "Step 1: Import relevant functions"
   ]
  },
  {
   "cell_type": "code",
   "execution_count": null,
   "id": "3056209d",
   "metadata": {},
   "outputs": [],
   "source": [
    "import numpy as np\n",
    "import matplotlib.pyplot as plt\n",
    "from scipy import stats\n",
    "#from sklearn.metrics import r2_score | how am I supposed to do it in the kernel"
   ]
  },
  {
   "cell_type": "markdown",
   "id": "fe0d308c",
   "metadata": {},
   "source": [
    "Step 2: Generate plot arrays"
   ]
  },
  {
   "cell_type": "code",
   "execution_count": null,
   "id": "5158b322",
   "metadata": {},
   "outputs": [],
   "source": [
    "dim_x = np.zeros((819))\n",
    "dim_y = np.zeros((819))\n",
    "step_x = np.zeros((819))\n",
    "step_y = np.zeros((819))\n",
    "\n",
    "#Remove first trials as they are outliers\n",
    "\n",
    "for i in range(0, len(data)):\n",
    "    if (i%10):\n",
    "        dim_x[i-1-int(np.floor(i/10))] = data[i][0]\n",
    "        dim_y[i-1-int(np.floor(i/10))] = data[i][1]\n",
    "for i in range(0, len(data_time)):\n",
    "    if (i%10):\n",
    "        step_x[i-1-int(np.floor(i/10))] = data_time[i][0]\n",
    "        step_y[i-1-int(np.floor(i/10))] = data_time[i][1]"
   ]
  },
  {
   "cell_type": "markdown",
   "id": "512c38a8",
   "metadata": {},
   "source": [
    "Step 3: Perform test regressions (target: dim: quadratic; timestep: linear) and plot; evaluate using R²"
   ]
  },
  {
   "cell_type": "code",
   "execution_count": null,
   "id": "e39d2249",
   "metadata": {},
   "outputs": [],
   "source": [
    "dim = stats.linregress(dim_x, dim_y)\n",
    "step = stats.linregress(step_x, step_y)\n",
    "\n",
    "\"\"\"Dim plots.\"\"\"\n",
    "#O(n) fit\n",
    "plt.plot(dim_x, dim_y, 'o')\n",
    "plt.plot(dim_x, dim.intercept + dim.slope*dim_x, 'r')\n",
    "plt.xlabel(f\"Dimension of square SICA simulation \\n\\n R-squared value: {dim.rvalue**2:.6}\")\n",
    "plt.ylabel(\"Total SICA simulation runtime\")\n",
    "plt.title(\"Dimension Simulation: Linear Fit\")\n",
    "plt.show()\n",
    "\n",
    "#O(n log n) fit\n",
    "dimn15 = np.poly1d(np.polyfit((dim_x * np.log(dim_x)), dim_y, 1))\n",
    "pdimn15 = np.linspace(100, 500, 1000)\n",
    "plt.plot(dim_x, dim_y, 'o')\n",
    "plt.plot(pdimn15, dimn15(pdimn15*np.log(pdimn15)), 'r')\n",
    "plt.xlabel(f\"Dimension of square SICA simulation \\n\\n R-squared value: r2_score(dim_x, dimn15(dim_y*np.log(dim_y))):.6f\")\n",
    "plt.ylabel(\"Total SICA simulation runtime\")\n",
    "plt.title(\"Dimension Simulation: Linear-Logarithmic Fit\")\n",
    "plt.show()\n",
    "\n",
    "#O(n²) fit\n",
    "dimn2 = np.poly1d(np.polyfit(dim_x, dim_y, 2))\n",
    "pdimn2 = np.linspace(100, 500, 1000)\n",
    "plt.plot(dim_x, dim_y, 'o')\n",
    "plt.plot(pdimn2, dimn2(pdimn2), 'r')\n",
    "plt.xlabel(f\"Dimension of square SICA simulation \\n\\n R-squared value: r2_score(dim_x, dimn2(dim_y)):.6f\")\n",
    "plt.ylabel(\"Total SICA simulation runtime\")\n",
    "plt.title(\"Dimension Simulation: Quadratic Fit\")\n",
    "plt.show()\n",
    "\n",
    "#O(n² log n) fit\n",
    "dimn25 = np.poly1d(np.polyfit((dim_x * dim_x * np.log(dim_x)), dim_y, 1))\n",
    "pdimn25 = np.linspace(100, 500, 1000)\n",
    "plt.plot(dim_x, dim_y, 'o')\n",
    "plt.plot(pdimn25, dimn25(pdimn25*pdimn25*np.log(pdimn25)), 'r')\n",
    "plt.xlabel(f\"Dimension of square SICA simulation \\n\\n R-squared value: r2_score(dim_x, dimn25(dim_y*dim_y*np.log(dim_y))):.6f\")\n",
    "plt.ylabel(\"Total SICA simulation runtime\")\n",
    "plt.title(\"Dimension Simulation: Quadratic-Logarithmic Fit\")\n",
    "plt.show()\n",
    "\n",
    "#O(n^3) fit\n",
    "dimn3 = np.poly1d(np.polyfit(dim_x, dim_y, 3))\n",
    "pdimn3 = np.linspace(100, 500, 1000)\n",
    "plt.plot(dim_x, dim_y, 'o')\n",
    "plt.plot(pdimn3, dimn3(pdimn3), 'r')\n",
    "plt.xlabel(f\"Dimension of square SICA simulation \\n\\n R-squared value: r2_score(dim_x, dimn3(dim_y)):.6f\")\n",
    "plt.ylabel(\"Total SICA simulation runtime\")\n",
    "plt.title(\"Dimension Simulation: Cubic Fit\")\n",
    "plt.show()\n",
    "\n",
    "\"\"\"Timestep plots.\"\"\"\n",
    "#O(n) fit\n",
    "plt.plot(step_x, step_y, 'o', label='original data')\n",
    "plt.plot(step_x, step.intercept + step.slope*step_x, 'r')\n",
    "plt.xlabel(f\"Number of SICA timesteps simulated \\n\\n R-squared value: {step.rvalue**2:.6f}\")\n",
    "plt.ylabel(\"Total SICA simulation runtime\")\n",
    "plt.title(\"Timestep Simulation: Linear Fit\")\n",
    "plt.show()\n",
    "\n",
    "#O(n log n) fit\n",
    "timn15 = np.poly1d(np.polyfit((step_x * np.log(step_x)), step_y, 1))\n",
    "ptimn15 = np.linspace(100, 500, 1000)\n",
    "plt.plot(step_x, step_y, 'o')\n",
    "plt.plot(ptimn15, timn15(ptimn15*np.log(ptimn15)), 'r')\n",
    "plt.xlabel(f\"Number of SICA timesteps simulated \\n\\n R-squared value: r2_score(dim_x, timn15(dim_y*np.log(dim_y))):.6f\")\n",
    "plt.ylabel(\"Total SICA simulation runtime\")\n",
    "plt.title(\"Timestep Simulation: Linear-Logarithmic Fit\")\n",
    "plt.show()\n",
    "\n",
    "#O(n²) fit\n",
    "timn2 = np.poly1d(np.polyfit(step_x, step_y, 2))\n",
    "ptimn2 = np.linspace(100, 500, 1000)\n",
    "plt.plot(step_x, step_y, 'o')\n",
    "plt.plot(ptimn2, timn2(ptimn2), 'r')\n",
    "plt.xlabel(f\"Number of SICA timesteps simulated \\n\\n R-squared value: r2_score(step_x, timn2(step_y)):.6f\")\n",
    "plt.ylabel(\"Total SICA simulation runtime\")\n",
    "plt.title(\"Timestep Simulation: Quadratic Fit\")\n",
    "plt.show()\n",
    "\n",
    "#O(n² log n) fit\n",
    "timn25 = np.poly1d(np.polyfit((step_x * step_x * np.log(step_x)), step_y, 1))\n",
    "ptimn25 = np.linspace(100, 500, 1000)\n",
    "plt.plot(step_x, step_y, 'o')\n",
    "plt.plot(ptimn25, timn25(ptimn25*ptimn25*np.log(ptimn25)), 'r')\n",
    "plt.xlabel(f\"Number of SICA timesteps simulated \\n\\n R-squared value: r2_score(dim_x, timn25(dim_y*dim_y*np.log(dim_y))):.6f\")\n",
    "plt.ylabel(\"Total SICA simulation runtime\")\n",
    "plt.title(\"Timestep Simulation: Quadratic-Logarithmic Fit\")\n",
    "plt.show()\n",
    "\n",
    "#O(n^3) fit\n",
    "timn3 = np.poly1d(np.polyfit(step_x, step_y, 3))\n",
    "ptimn3 = np.linspace(100, 500, 1000)\n",
    "plt.plot(step_x, step_y, 'o')\n",
    "plt.plot(ptimn3, timn3(ptimn3), 'r')\n",
    "plt.xlabel(f\"Number of SICA timesteps simulated \\n\\n R-squared value: r2_score(step_x, timn3(step_y)):.6f\")\n",
    "plt.ylabel(\"Total SICA simulation runtime\")\n",
    "plt.title(\"Timestep Simulation: Cubic Fit\")\n",
    "plt.show()"
   ]
  }
 ],
 "metadata": {
  "kernelspec": {
   "display_name": "pytorch_cuda_12_8",
   "language": "python",
   "name": "python3"
  },
  "language_info": {
   "codemirror_mode": {
    "name": "ipython",
    "version": 3
   },
   "file_extension": ".py",
   "mimetype": "text/x-python",
   "name": "python",
   "nbconvert_exporter": "python",
   "pygments_lexer": "ipython3",
   "version": "3.10.18"
  }
 },
 "nbformat": 4,
 "nbformat_minor": 5
}
