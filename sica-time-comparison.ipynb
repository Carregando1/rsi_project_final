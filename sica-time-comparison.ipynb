{
 "cells": [
  {
   "cell_type": "markdown",
   "id": "78e09bdf",
   "metadata": {},
   "source": [
    "SICA Time Comparison- Results Analysis"
   ]
  },
  {
   "cell_type": "markdown",
   "id": "be43d685",
   "metadata": {},
   "source": [
    "Step 1: Import relevant state functions and packages"
   ]
  },
  {
   "cell_type": "code",
   "execution_count": 3,
   "id": "76122179",
   "metadata": {},
   "outputs": [],
   "source": [
    "from EditedCode.genetic.state import CurrentState as st0\n",
    "from cax_sica.genetic.state import CurrentState as st2\n",
    "from cax_sica_decomp.genetic.state import CurrentState as st1\n",
    "\n",
    "import numpy as np\n",
    "import time"
   ]
  },
  {
   "cell_type": "markdown",
   "id": "25139436",
   "metadata": {},
   "source": [
    "Step 2: Create the IC and SRT"
   ]
  },
  {
   "cell_type": "code",
   "execution_count": 40,
   "id": "8435b6c1",
   "metadata": {},
   "outputs": [
    {
     "name": "stdout",
     "output_type": "stream",
     "text": [
      "0.4790325164794922\n"
     ]
    }
   ],
   "source": [
    "starttime = time.time()\n",
    "\n",
    "def generateicsrt(dim, num_steps, example = 0):\n",
    "    ic = np.random.choice([0,0,0,1], size=(dim, dim))\n",
    "    srt = np.random.choice([0,0,0,0,0,1], size=(num_steps, dim, dim, 18))\n",
    "    if (example == 1):\n",
    "        ic = np.random.choice([0,0,1], size=(dim, dim))\n",
    "        srt = np.full((num_steps, dim, dim, 18), [0,0,0,1,0,0,0,0,0,0,0,1,1,0,0,0,0,0])\n",
    "    srtcomp = np.zeros((num_steps, dim, dim, 18, 4))\n",
    "    for i in range(num_steps):\n",
    "        for j in range(dim):\n",
    "            for k in range(dim):\n",
    "                for l in range(18):\n",
    "                    srtcomp[i][j][k][l] = np.array([8-l%9, l%9, int(np.floor(l/9)), srt[i][j][k][l]])\n",
    "    return ic, srt, srtcomp\n",
    "#100, 100 takes about 47-49s to generate. The time increases ^2 with respect to dim and ^1 with respect to num_steps.\n",
    "stepdim = [10,100,0]\n",
    "icsrtcomp = generateicsrt(stepdim[0], stepdim[1], stepdim[2])\n",
    "ic = icsrtcomp[0]\n",
    "srt = icsrtcomp[1]\n",
    "srtcomp = icsrtcomp[2]\n",
    "\n",
    "print(time.time() - starttime)\n"
   ]
  },
  {
   "cell_type": "markdown",
   "id": "5ad7d8a2",
   "metadata": {},
   "source": [
    "Step 3: Simulate Original Code"
   ]
  },
  {
   "cell_type": "code",
   "execution_count": 41,
   "id": "8252a765",
   "metadata": {},
   "outputs": [
    {
     "name": "stdout",
     "output_type": "stream",
     "text": [
      "0.1987154483795166\n"
     ]
    }
   ],
   "source": [
    "starttime = time.time()\n",
    "state = st0(initial=ic, rules=srtcomp)\n",
    "st0res = state.generate()\n",
    "print(time.time() - starttime)\n"
   ]
  },
  {
   "cell_type": "markdown",
   "id": "9670b3a4",
   "metadata": {},
   "source": [
    "Step 4: Simulate Attempt 1 Code (SICA Decomposition)"
   ]
  },
  {
   "cell_type": "code",
   "execution_count": 42,
   "id": "9cd10ae6",
   "metadata": {},
   "outputs": [
    {
     "name": "stdout",
     "output_type": "stream",
     "text": [
      "489.0211338996887\n"
     ]
    }
   ],
   "source": [
    "starttime = time.time()\n",
    "state = st1(initial=ic, rules=srtcomp)\n",
    "st1res = state.generate()\n",
    "print(time.time() - starttime)\n"
   ]
  },
  {
   "cell_type": "markdown",
   "id": "16b4930b",
   "metadata": {},
   "source": [
    "Step 5: Simulate Attempt 2 Code (SICA System)"
   ]
  },
  {
   "cell_type": "code",
   "execution_count": 38,
   "id": "34fc2c95",
   "metadata": {},
   "outputs": [
    {
     "name": "stdout",
     "output_type": "stream",
     "text": [
      "0.22713828086853027\n"
     ]
    }
   ],
   "source": [
    "starttime = time.time()\n",
    "state = st2(initial=ic, rules=srt)\n",
    "st2res = state.generate()\n",
    "print(time.time() - starttime)\n"
   ]
  },
  {
   "cell_type": "markdown",
   "id": "9dc5556a",
   "metadata": {},
   "source": [
    "Step 6: Ensure all results are correct"
   ]
  },
  {
   "cell_type": "code",
   "execution_count": 39,
   "id": "b5d4553e",
   "metadata": {},
   "outputs": [
    {
     "name": "stdout",
     "output_type": "stream",
     "text": [
      "Dims: 10x10, Timesteps: 50\n",
      "\n",
      "\n",
      "Orig = Att 2: True\n",
      "Orig = Att 1: True\n",
      "Att 1 = Att 2: True\n",
      "[[[0 1 1 ... 1 1 0]\n",
      "  [0 0 0 ... 1 0 0]\n",
      "  [0 0 1 ... 1 0 0]\n",
      "  ...\n",
      "  [0 1 0 ... 0 1 0]\n",
      "  [0 0 1 ... 0 0 0]\n",
      "  [1 0 0 ... 0 0 0]]\n",
      "\n",
      " [[0 0 0 ... 0 0 0]\n",
      "  [0 1 0 ... 1 0 1]\n",
      "  [0 0 0 ... 1 0 1]\n",
      "  ...\n",
      "  [1 0 1 ... 0 1 0]\n",
      "  [0 0 0 ... 0 0 0]\n",
      "  [0 0 0 ... 0 1 0]]\n",
      "\n",
      " [[0 0 0 ... 1 1 1]\n",
      "  [0 1 0 ... 1 0 0]\n",
      "  [0 0 0 ... 1 0 1]\n",
      "  ...\n",
      "  [0 0 0 ... 1 0 0]\n",
      "  [0 0 0 ... 0 0 0]\n",
      "  [0 0 0 ... 0 0 1]]\n",
      "\n",
      " ...\n",
      "\n",
      " [[0 0 1 ... 0 0 0]\n",
      "  [0 0 0 ... 0 0 1]\n",
      "  [0 0 0 ... 0 0 0]\n",
      "  ...\n",
      "  [0 0 0 ... 0 0 0]\n",
      "  [0 0 0 ... 0 1 1]\n",
      "  [0 0 1 ... 0 0 1]]\n",
      "\n",
      " [[0 0 1 ... 0 0 0]\n",
      "  [0 0 0 ... 0 0 0]\n",
      "  [0 1 1 ... 0 1 1]\n",
      "  ...\n",
      "  [0 0 0 ... 0 1 0]\n",
      "  [0 0 0 ... 0 0 1]\n",
      "  [0 0 0 ... 1 0 0]]\n",
      "\n",
      " [[0 0 0 ... 1 0 0]\n",
      "  [0 0 0 ... 0 0 0]\n",
      "  [0 1 0 ... 1 1 0]\n",
      "  ...\n",
      "  [0 0 0 ... 0 1 0]\n",
      "  [1 0 0 ... 1 0 0]\n",
      "  [0 0 0 ... 1 0 0]]]\n"
     ]
    }
   ],
   "source": [
    "print(f\"Dims: {stepdim[0]}x{stepdim[0]}, Timesteps: {stepdim[1]}\")\n",
    "print(\"\\n\")\n",
    "print(f\"Orig = Att 2: {np.all(st0res == st2res)}\")\n",
    "print(f\"Orig = Att 1: {np.all(st0res == st1res)}\")\n",
    "print(f\"Att 1 = Att 2: {np.all(st1res == st2res)}\")\n",
    "\n",
    "print(st2res)\n",
    "\n"
   ]
  },
  {
   "cell_type": "code",
   "execution_count": null,
   "id": "3aa1b10e",
   "metadata": {},
   "outputs": [],
   "source": []
  }
 ],
 "metadata": {
  "kernelspec": {
   "display_name": "pytorch_cuda_12_8",
   "language": "python",
   "name": "python3"
  },
  "language_info": {
   "codemirror_mode": {
    "name": "ipython",
    "version": 3
   },
   "file_extension": ".py",
   "mimetype": "text/x-python",
   "name": "python",
   "nbconvert_exporter": "python",
   "pygments_lexer": "ipython3",
   "version": "3.10.18"
  }
 },
 "nbformat": 4,
 "nbformat_minor": 5
}
