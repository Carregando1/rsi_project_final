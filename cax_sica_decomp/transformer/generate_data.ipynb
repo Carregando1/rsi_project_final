{
 "cells": [
  {
   "cell_type": "markdown",
   "metadata": {},
   "source": [
    "Importing cellular automata & optimization classes, and other stuff"
   ]
  },
  {
   "cell_type": "code",
   "execution_count": null,
   "metadata": {},
   "outputs": [],
   "source": [
    "#Attempt 1 code.\n",
    "\n",
    "import os\n",
    "import sys\n",
    "import shutil\n",
    "\n",
    "from typing import List, Type, Callable, Dict\n",
    "from numpy import int32\n",
    "from numpy._typing import NDArray\n",
    "import importlib\n",
    "\n",
    "sys.path.append(os.path.dirname(os.path.dirname(os.path.abspath(''))))\n",
    "\n",
    "#from cax_sica_decomp.blender import Lattice, clear_initial\n",
    "from cax_sica_decomp.ruleset import conway, seeds, RuleSet\n",
    "from cax_sica_decomp.genetic import Optimizer, Mutator, RulesetMutator, ArbitraryRulesetMutator, MutationSet\n",
    "from cax_sica_decomp.objectives import surface_to_vol\n",
    "\n",
    "import numpy as np\n",
    "import pandas as pd"
   ]
  },
  {
   "cell_type": "markdown",
   "metadata": {},
   "source": [
    "Setting up optimizer and data logging code"
   ]
  },
  {
   "cell_type": "code",
   "execution_count": 2,
   "metadata": {},
   "outputs": [],
   "source": [
    "def log_mutation(data_list: List[Dict], mutations: List[MutationSet], objective_val: float):\n",
    "    \"\"\"\n",
    "    Given the data list reference, the mutation set, and the objective value after applying it, add it to the data logging list\n",
    "    \"\"\"\n",
    "    ic_cell_pos = []\n",
    "    ic_state_old = []\n",
    "    ic_state_new = []\n",
    "    srt_cell_pos = []\n",
    "    srt_state_old = []\n",
    "    srt_state_new = []\n",
    "\n",
    "    for ic_mut in mutations.ic_mutations:\n",
    "        ic_cell_pos.append(ic_mut.cell_pos)\n",
    "        ic_state_old.append(ic_mut.old_state)\n",
    "        ic_state_new.append(ic_mut.new_state)\n",
    "    for srt_mut in mutations.srt_mutations:\n",
    "        srt_cell_pos.append(srt_mut.cell_pos)\n",
    "        srt_state_old.append(srt_mut.old_state)\n",
    "        srt_state_new.append(srt_mut.new_state)\n",
    "    \n",
    "    data_list.append({\n",
    "        \"ic_cell_pos\": np.array(ic_cell_pos), \n",
    "        \"ic_state_old\": np.array(ic_state_old), \n",
    "        \"ic_state_new\": np.array(ic_state_new), \n",
    "        \"srt_cell_pos\": np.array(srt_cell_pos), \n",
    "        \"srt_state_old\": np.array(srt_state_old), \n",
    "        \"srt_state_new\": np.array(srt_state_new), \n",
    "        \"objective\": objective_val,\n",
    "    })\n",
    "\n",
    "def run_experiment(iters: int, grid_sz: int, ruleset_mutator_class: Type[Mutator], rule_set: List[RuleSet], opt_func: Callable[[NDArray[int32]], int],\n",
    "                   srt_num_mutate: int, ic_num_mutate: int, rule_mutate_prob: float):\n",
    "    \"\"\"\n",
    "    Runs an experiment with the below hyperparameters:\n",
    "\n",
    "    :param iters: The number of iterations the mutation algorithm (updating both IC and SRT) is going to run for\n",
    "    :param grid_sz: The size of the square grid that we're going to update each iteration\n",
    "    :param ruleset_mutator_class: The class of the SRT mutator we're going to use for this experiment\n",
    "    :param rule_set: The set of rules that the SRT initially has (picked at random for each cell, then scrambled by the mutator)\n",
    "    :param opt_func: The functions that gives the performance metric we're going to optimize\n",
    "    :param srt_num_mutate: The number of SRT cells for which we're going to mutate the rule applied, each iteration\n",
    "    :param ic_num_mutate: The number of IC cells for which we're going to mutate the rule applied, each iteration\n",
    "    :param rule_mutate_prob: The probability, for each neighbor state tensor of the rule of a cell that's selected to be mutated, the final state is mutated\n",
    "    \"\"\"\n",
    "    # TODO: separate SRT and IC mutations to have a certain number of each\n",
    "    # TODO: add a flag to enable doing only SRT or only IC mutations in an iteration (in optimizer step, and then propagate into mutator)\n",
    "    ruleset_mutator = ruleset_mutator_class(rules=rule_set, grid_size=grid_sz, mutate_p=1/(grid_sz**2) * (srt_num_mutate+ic_num_mutate), rule_mutate_p=rule_mutate_prob)\n",
    "\n",
    "    optim = Optimizer(mutator=ruleset_mutator, objective=lambda grid: opt_func(grid))\n",
    "\n",
    "    \"\"\"\n",
    "    Pandas Dataframe used to log experiment data is:\n",
    "\n",
    "    ic_cell_pos (np.array) | ic_state_old (np.array) | ic_state_new (np.array) | srt_cell_pos (np.array) | srt_state_old (np.array) | srt_state_new (np.array) | objective (float)\n",
    "    \n",
    "    etc.\n",
    "\n",
    "    initial state for IC is in entry 0 in ic_state_old, and SRT is in entry 0 in srt_state_old\n",
    "\n",
    "    ic and srt mutation cell positions and states can have an extra dimension in the beginning to indicate they are batch updates\n",
    "    \"\"\"\n",
    "\n",
    "    init_state = optim.state\n",
    "    \n",
    "    data_list = [{\"ic_cell_pos\": grid_sz, \n",
    "                  \"ic_state_old\": init_state.initial, \n",
    "                  \"ic_state_new\": None, \n",
    "                  \"srt_cell_pos\": -1, \n",
    "                  \"srt_state_old\": init_state.rules, \n",
    "                  \"srt_state_new\": None, \n",
    "                  \"objective\": 0}]\n",
    "\n",
    "    for it in range(iters):\n",
    "        # print(f\"On iteration {it+1}...\")\n",
    "        accepted, new, old, mutations = optim.step()\n",
    "\n",
    "        # data logging\n",
    "        log_mutation(data_list, mutations, optim.objvalue)\n",
    "\n",
    "        # if accepted:\n",
    "        #     print(\"Got a better state!\", optim.objvalue)\n",
    "\n",
    "    # print(data_list)\n",
    "    df = pd.DataFrame(data_list)\n",
    "    # print(df)\n",
    "    return df\n",
    "\n",
    "def repeat_experiment(experiment_name: str, num_expers: int, *args):\n",
    "    \"\"\"\n",
    "    Perform (sequentially) multiple experiments that return a Pandas DataFrame and save all the data\n",
    "\n",
    "    :param experiment_name: The name of the experiment to save the file\n",
    "    :param num_expers: Number of times to run the experiment (and save all the data in one file)\n",
    "    :param *args: The arguments to be passed to the experiment function\n",
    "    \"\"\"\n",
    "    for i in range(num_expers):\n",
    "        print(f'REPETITION {i}')\n",
    "        ret_data = run_experiment(*args)\n",
    "        ret_data.to_hdf(f'data/{experiment_name}_{i}.h5', key='data', mode='a')\n"
   ]
  },
  {
   "cell_type": "markdown",
   "metadata": {},
   "source": [
    "Setting up experiments and gathering data"
   ]
  },
  {
   "cell_type": "code",
   "execution_count": 3,
   "metadata": {},
   "outputs": [
    {
     "name": "stdout",
     "output_type": "stream",
     "text": [
      "RUNNING EXPERIMENT test_experiment WITH 100 ITERATIONS AND 32 SIZE GRID\n",
      "REPETITION 0\n"
     ]
    },
    {
     "ename": "KeyboardInterrupt",
     "evalue": "",
     "output_type": "error",
     "traceback": [
      "\u001b[1;31m---------------------------------------------------------------------------\u001b[0m",
      "\u001b[1;31mKeyboardInterrupt\u001b[0m                         Traceback (most recent call last)",
      "Cell \u001b[1;32mIn[3], line 9\u001b[0m\n\u001b[0;32m      7\u001b[0m \u001b[38;5;28;01mfor\u001b[39;00m grid_sz \u001b[38;5;129;01min\u001b[39;00m GRID_SIZE_SET:\n\u001b[0;32m      8\u001b[0m     \u001b[38;5;28mprint\u001b[39m(\u001b[38;5;124mf\u001b[39m\u001b[38;5;124m\"\u001b[39m\u001b[38;5;124mRUNNING EXPERIMENT \u001b[39m\u001b[38;5;132;01m{\u001b[39;00mEXPERIMENT_NAME\u001b[38;5;132;01m}\u001b[39;00m\u001b[38;5;124m WITH \u001b[39m\u001b[38;5;132;01m{\u001b[39;00miters\u001b[38;5;132;01m}\u001b[39;00m\u001b[38;5;124m ITERATIONS AND \u001b[39m\u001b[38;5;132;01m{\u001b[39;00mgrid_sz\u001b[38;5;132;01m}\u001b[39;00m\u001b[38;5;124m SIZE GRID\u001b[39m\u001b[38;5;124m\"\u001b[39m)\n\u001b[1;32m----> 9\u001b[0m     \u001b[43mrepeat_experiment\u001b[49m\u001b[43m(\u001b[49m\u001b[38;5;124;43mf\u001b[39;49m\u001b[38;5;124;43m\"\u001b[39;49m\u001b[38;5;132;43;01m{\u001b[39;49;00m\u001b[43mEXPERIMENT_NAME\u001b[49m\u001b[38;5;132;43;01m}\u001b[39;49;00m\u001b[38;5;124;43m_\u001b[39;49m\u001b[38;5;132;43;01m{\u001b[39;49;00m\u001b[43miters\u001b[49m\u001b[38;5;132;43;01m}\u001b[39;49;00m\u001b[38;5;124;43mITERS_\u001b[39;49m\u001b[38;5;132;43;01m{\u001b[39;49;00m\u001b[43mgrid_sz\u001b[49m\u001b[38;5;132;43;01m}\u001b[39;49;00m\u001b[38;5;124;43mGRID\u001b[39;49m\u001b[38;5;124;43m\"\u001b[39;49m\u001b[43m,\u001b[49m\u001b[43m \u001b[49m\u001b[43mNUM_REPEAT\u001b[49m\u001b[43m,\u001b[49m\u001b[43m \u001b[49m\u001b[43miters\u001b[49m\u001b[43m,\u001b[49m\u001b[43m \u001b[49m\u001b[43mgrid_sz\u001b[49m\u001b[43m,\u001b[49m\u001b[43m \u001b[49m\u001b[43mArbitraryRulesetMutator\u001b[49m\u001b[43m,\u001b[49m\u001b[43m \u001b[49m\u001b[43m[\u001b[49m\u001b[43mconway\u001b[49m\u001b[43m(\u001b[49m\u001b[43m)\u001b[49m\u001b[43m,\u001b[49m\u001b[43m \u001b[49m\u001b[43mseeds\u001b[49m\u001b[43m(\u001b[49m\u001b[43m)\u001b[49m\u001b[43m]\u001b[49m\u001b[43m,\u001b[49m\u001b[43m \u001b[49m\u001b[43msurface_to_vol\u001b[49m\u001b[43m,\u001b[49m\u001b[43m \u001b[49m\u001b[38;5;241;43m10\u001b[39;49m\u001b[43m,\u001b[49m\u001b[43m \u001b[49m\u001b[38;5;241;43m10\u001b[39;49m\u001b[43m,\u001b[49m\u001b[43m \u001b[49m\u001b[38;5;241;43m2\u001b[39;49m\u001b[38;5;241;43m/\u001b[39;49m\u001b[38;5;241;43m3\u001b[39;49m\u001b[43m)\u001b[49m\n",
      "Cell \u001b[1;32mIn[2], line 98\u001b[0m, in \u001b[0;36mrepeat_experiment\u001b[1;34m(experiment_name, num_expers, *args)\u001b[0m\n\u001b[0;32m     96\u001b[0m \u001b[38;5;28;01mfor\u001b[39;00m i \u001b[38;5;129;01min\u001b[39;00m \u001b[38;5;28mrange\u001b[39m(num_expers):\n\u001b[0;32m     97\u001b[0m     \u001b[38;5;28mprint\u001b[39m(\u001b[38;5;124mf\u001b[39m\u001b[38;5;124m'\u001b[39m\u001b[38;5;124mREPETITION \u001b[39m\u001b[38;5;132;01m{\u001b[39;00mi\u001b[38;5;132;01m}\u001b[39;00m\u001b[38;5;124m'\u001b[39m)\n\u001b[1;32m---> 98\u001b[0m     ret_data \u001b[38;5;241m=\u001b[39m \u001b[43mrun_experiment\u001b[49m\u001b[43m(\u001b[49m\u001b[38;5;241;43m*\u001b[39;49m\u001b[43margs\u001b[49m\u001b[43m)\u001b[49m\n\u001b[0;32m     99\u001b[0m     ret_data\u001b[38;5;241m.\u001b[39mto_hdf(\u001b[38;5;124mf\u001b[39m\u001b[38;5;124m'\u001b[39m\u001b[38;5;124mdata/\u001b[39m\u001b[38;5;132;01m{\u001b[39;00mexperiment_name\u001b[38;5;132;01m}\u001b[39;00m\u001b[38;5;124m_\u001b[39m\u001b[38;5;132;01m{\u001b[39;00mi\u001b[38;5;132;01m}\u001b[39;00m\u001b[38;5;124m.h5\u001b[39m\u001b[38;5;124m'\u001b[39m, key\u001b[38;5;241m=\u001b[39m\u001b[38;5;124m'\u001b[39m\u001b[38;5;124mdata\u001b[39m\u001b[38;5;124m'\u001b[39m, mode\u001b[38;5;241m=\u001b[39m\u001b[38;5;124m'\u001b[39m\u001b[38;5;124ma\u001b[39m\u001b[38;5;124m'\u001b[39m)\n",
      "Cell \u001b[1;32mIn[2], line 49\u001b[0m, in \u001b[0;36mrun_experiment\u001b[1;34m(iters, grid_sz, ruleset_mutator_class, rule_set, opt_func, srt_num_mutate, ic_num_mutate, rule_mutate_prob)\u001b[0m\n\u001b[0;32m     45\u001b[0m \u001b[38;5;66;03m# TODO: separate SRT and IC mutations to have a certain number of each\u001b[39;00m\n\u001b[0;32m     46\u001b[0m \u001b[38;5;66;03m# TODO: add a flag to enable doing only SRT or only IC mutations in an iteration (in optimizer step, and then propagate into mutator)\u001b[39;00m\n\u001b[0;32m     47\u001b[0m ruleset_mutator \u001b[38;5;241m=\u001b[39m ruleset_mutator_class(rules\u001b[38;5;241m=\u001b[39mrule_set, grid_size\u001b[38;5;241m=\u001b[39mgrid_sz, mutate_p\u001b[38;5;241m=\u001b[39m\u001b[38;5;241m1\u001b[39m\u001b[38;5;241m/\u001b[39m(grid_sz\u001b[38;5;241m*\u001b[39m\u001b[38;5;241m*\u001b[39m\u001b[38;5;241m2\u001b[39m) \u001b[38;5;241m*\u001b[39m (srt_num_mutate\u001b[38;5;241m+\u001b[39mic_num_mutate), rule_mutate_p\u001b[38;5;241m=\u001b[39mrule_mutate_prob)\n\u001b[1;32m---> 49\u001b[0m optim \u001b[38;5;241m=\u001b[39m \u001b[43mOptimizer\u001b[49m\u001b[43m(\u001b[49m\u001b[43mmutator\u001b[49m\u001b[38;5;241;43m=\u001b[39;49m\u001b[43mruleset_mutator\u001b[49m\u001b[43m,\u001b[49m\u001b[43m \u001b[49m\u001b[43mobjective\u001b[49m\u001b[38;5;241;43m=\u001b[39;49m\u001b[38;5;28;43;01mlambda\u001b[39;49;00m\u001b[43m \u001b[49m\u001b[43mgrid\u001b[49m\u001b[43m:\u001b[49m\u001b[43m \u001b[49m\u001b[43mopt_func\u001b[49m\u001b[43m(\u001b[49m\u001b[43mgrid\u001b[49m\u001b[43m)\u001b[49m\u001b[43m)\u001b[49m\n\u001b[0;32m     51\u001b[0m \u001b[38;5;250m\u001b[39m\u001b[38;5;124;03m\"\"\"\u001b[39;00m\n\u001b[0;32m     52\u001b[0m \u001b[38;5;124;03mPandas Dataframe used to log experiment data is:\u001b[39;00m\n\u001b[0;32m     53\u001b[0m \n\u001b[1;32m   (...)\u001b[0m\n\u001b[0;32m     60\u001b[0m \u001b[38;5;124;03mic and srt mutation cell positions and states can have an extra dimension in the beginning to indicate they are batch updates\u001b[39;00m\n\u001b[0;32m     61\u001b[0m \u001b[38;5;124;03m\"\"\"\u001b[39;00m\n\u001b[0;32m     63\u001b[0m init_state \u001b[38;5;241m=\u001b[39m optim\u001b[38;5;241m.\u001b[39mstate\n",
      "File \u001b[1;32mc:\\Users\\LAMM\\Documents\\Darren\\Automata-Architected-Materials-main\\cax_implementation\\cax_sica_decomp\\genetic\\optimize.py:23\u001b[0m, in \u001b[0;36mOptimizer.__init__\u001b[1;34m(self, mutator, objective)\u001b[0m\n\u001b[0;32m     20\u001b[0m \u001b[38;5;28mself\u001b[39m\u001b[38;5;241m.\u001b[39mobjective \u001b[38;5;241m=\u001b[39m objective\n\u001b[0;32m     22\u001b[0m \u001b[38;5;28mself\u001b[39m\u001b[38;5;241m.\u001b[39mstate \u001b[38;5;241m=\u001b[39m mutator\u001b[38;5;241m.\u001b[39minit_state()\n\u001b[1;32m---> 23\u001b[0m \u001b[38;5;28mself\u001b[39m\u001b[38;5;241m.\u001b[39mobjvalue \u001b[38;5;241m=\u001b[39m objective(\u001b[38;5;28;43mself\u001b[39;49m\u001b[38;5;241;43m.\u001b[39;49m\u001b[43mstate\u001b[49m\u001b[38;5;241;43m.\u001b[39;49m\u001b[43mgenerate\u001b[49m\u001b[43m(\u001b[49m\u001b[43m)\u001b[49m)\n",
      "File \u001b[1;32mc:\\Users\\LAMM\\Documents\\Darren\\Automata-Architected-Materials-main\\cax_implementation\\cax_sica_decomp\\genetic\\state.py:49\u001b[0m, in \u001b[0;36mCurrentState.generate\u001b[1;34m(self)\u001b[0m\n\u001b[0;32m     46\u001b[0m grid[\u001b[38;5;241m0\u001b[39m] \u001b[38;5;241m=\u001b[39m \u001b[38;5;28mself\u001b[39m\u001b[38;5;241m.\u001b[39minitial\n\u001b[0;32m     47\u001b[0m \u001b[38;5;28;01mfor\u001b[39;00m i \u001b[38;5;129;01min\u001b[39;00m \u001b[38;5;28mrange\u001b[39m(\u001b[38;5;28mself\u001b[39m\u001b[38;5;241m.\u001b[39mrules\u001b[38;5;241m.\u001b[39mshape[\u001b[38;5;241m0\u001b[39m]):\n\u001b[0;32m     48\u001b[0m     \u001b[38;5;66;03m#Changed num_state expression for consistency\u001b[39;00m\n\u001b[1;32m---> 49\u001b[0m     grid[i \u001b[38;5;241m+\u001b[39m \u001b[38;5;241m1\u001b[39m] \u001b[38;5;241m=\u001b[39m \u001b[43mtransition\u001b[49m\u001b[43m(\u001b[49m\u001b[43mgrid\u001b[49m\u001b[43m[\u001b[49m\u001b[43mi\u001b[49m\u001b[43m]\u001b[49m\u001b[43m,\u001b[49m\u001b[43m \u001b[49m\u001b[38;5;28;43mself\u001b[39;49m\u001b[38;5;241;43m.\u001b[39;49m\u001b[43mrules\u001b[49m\u001b[43m[\u001b[49m\u001b[43mi\u001b[49m\u001b[43m]\u001b[49m\u001b[43m)\u001b[49m\n\u001b[0;32m     51\u001b[0m \u001b[38;5;28mself\u001b[39m\u001b[38;5;241m.\u001b[39m_generated \u001b[38;5;241m=\u001b[39m grid\n\u001b[0;32m     52\u001b[0m \u001b[38;5;28;01mreturn\u001b[39;00m grid\n",
      "File \u001b[1;32mc:\\Users\\LAMM\\Documents\\Darren\\Automata-Architected-Materials-main\\cax_implementation\\cax_sica_decomp\\transition.py:64\u001b[0m, in \u001b[0;36mtransition\u001b[1;34m(states, rules)\u001b[0m\n\u001b[0;32m     62\u001b[0m \u001b[38;5;28;01mfor\u001b[39;00m i \u001b[38;5;129;01min\u001b[39;00m \u001b[38;5;28mrange\u001b[39m (\u001b[38;5;241m1\u001b[39m, states\u001b[38;5;241m.\u001b[39mshape[\u001b[38;5;241m0\u001b[39m] \u001b[38;5;241m+\u001b[39m \u001b[38;5;241m1\u001b[39m):\n\u001b[0;32m     63\u001b[0m \t\u001b[38;5;28;01mfor\u001b[39;00m j \u001b[38;5;129;01min\u001b[39;00m \u001b[38;5;28mrange\u001b[39m (\u001b[38;5;241m1\u001b[39m, states\u001b[38;5;241m.\u001b[39mshape[\u001b[38;5;241m1\u001b[39m] \u001b[38;5;241m+\u001b[39m \u001b[38;5;241m1\u001b[39m):\n\u001b[1;32m---> 64\u001b[0m \t\tca\u001b[38;5;241m.\u001b[39mupdate\u001b[38;5;241m.\u001b[39mupdate_birth_survival_from_string(\u001b[43mbsfromarray\u001b[49m\u001b[43m(\u001b[49m\u001b[43mrules\u001b[49m\u001b[43m[\u001b[49m\u001b[43mi\u001b[49m\u001b[38;5;241;43m-\u001b[39;49m\u001b[38;5;241;43m1\u001b[39;49m\u001b[43m]\u001b[49m\u001b[43m[\u001b[49m\u001b[43mj\u001b[49m\u001b[38;5;241;43m-\u001b[39;49m\u001b[38;5;241;43m1\u001b[39;49m\u001b[43m]\u001b[49m\u001b[43m)\u001b[49m)\n\u001b[0;32m     65\u001b[0m \t\tstate_init \u001b[38;5;241m=\u001b[39m jnp\u001b[38;5;241m.\u001b[39mzeros((\u001b[38;5;241m5\u001b[39m, \u001b[38;5;241m5\u001b[39m, \u001b[38;5;241m1\u001b[39m))\u001b[38;5;241m.\u001b[39mat[\u001b[38;5;241m1\u001b[39m:\u001b[38;5;241m-\u001b[39m\u001b[38;5;241m1\u001b[39m, \u001b[38;5;241m1\u001b[39m:\u001b[38;5;241m-\u001b[39m\u001b[38;5;241m1\u001b[39m, \u001b[38;5;241m0\u001b[39m]\u001b[38;5;241m.\u001b[39mset(icborder[i\u001b[38;5;241m-\u001b[39m\u001b[38;5;241m1\u001b[39m:i\u001b[38;5;241m+\u001b[39m\u001b[38;5;241m2\u001b[39m, j\u001b[38;5;241m-\u001b[39m\u001b[38;5;241m1\u001b[39m:j\u001b[38;5;241m+\u001b[39m\u001b[38;5;241m2\u001b[39m])\n\u001b[0;32m     66\u001b[0m \t\tstate_final, stateslog \u001b[38;5;241m=\u001b[39m ca(state_init, num_steps\u001b[38;5;241m=\u001b[39mnum_steps)\n",
      "File \u001b[1;32mc:\\Users\\LAMM\\Documents\\Darren\\Automata-Architected-Materials-main\\cax_implementation\\cax_sica_decomp\\transition.py:46\u001b[0m, in \u001b[0;36mbsfromarray\u001b[1;34m(rules)\u001b[0m\n\u001b[0;32m     44\u001b[0m \u001b[38;5;28;01mfor\u001b[39;00m i \u001b[38;5;129;01min\u001b[39;00m \u001b[38;5;28mrange\u001b[39m (rules\u001b[38;5;241m.\u001b[39mshape[\u001b[38;5;241m0\u001b[39m]):\n\u001b[0;32m     45\u001b[0m \t\u001b[38;5;28;01massert\u001b[39;00m \u001b[38;5;28mlen\u001b[39m(jnp\u001b[38;5;241m.\u001b[39mnonzero(jnp\u001b[38;5;241m.\u001b[39msum(converter[\u001b[38;5;241m0\u001b[39m:, :\u001b[38;5;241m-\u001b[39m\u001b[38;5;241m1\u001b[39m] \u001b[38;5;241m==\u001b[39m rules[i][:\u001b[38;5;241m-\u001b[39m\u001b[38;5;241m1\u001b[39m], axis\u001b[38;5;241m=\u001b[39m\u001b[38;5;241m1\u001b[39m) \u001b[38;5;241m==\u001b[39m \u001b[38;5;241m3\u001b[39m)[\u001b[38;5;241m0\u001b[39m]), \u001b[38;5;124m\"\u001b[39m\u001b[38;5;124mState [\u001b[39m\u001b[38;5;124m\"\u001b[39m\u001b[38;5;241m+\u001b[39mrules[i][\u001b[38;5;241m0\u001b[39m]\u001b[38;5;241m.\u001b[39m\u001b[38;5;21m__str__\u001b[39m()\u001b[38;5;241m+\u001b[39m\u001b[38;5;124m\"\u001b[39m\u001b[38;5;124m, \u001b[39m\u001b[38;5;124m\"\u001b[39m\u001b[38;5;241m+\u001b[39mrules[i][\u001b[38;5;241m1\u001b[39m]\u001b[38;5;241m.\u001b[39m\u001b[38;5;21m__str__\u001b[39m()\u001b[38;5;241m+\u001b[39m\u001b[38;5;124m\"\u001b[39m\u001b[38;5;124m, \u001b[39m\u001b[38;5;124m\"\u001b[39m\u001b[38;5;241m+\u001b[39mrules[i][\u001b[38;5;241m2\u001b[39m]\u001b[38;5;241m.\u001b[39m\u001b[38;5;21m__str__\u001b[39m()\u001b[38;5;241m+\u001b[39m\u001b[38;5;124m\"\u001b[39m\u001b[38;5;124m] in RuleSet is invalid: ensure that neighbors add to 8 and state is either 0 or 1\u001b[39m\u001b[38;5;124m\"\u001b[39m\n\u001b[1;32m---> 46\u001b[0m \tnum \u001b[38;5;241m=\u001b[39m converter[\u001b[43mjnp\u001b[49m\u001b[38;5;241;43m.\u001b[39;49m\u001b[43mnonzero\u001b[49m\u001b[43m(\u001b[49m\u001b[43mjnp\u001b[49m\u001b[38;5;241;43m.\u001b[39;49m\u001b[43msum\u001b[49m\u001b[43m(\u001b[49m\u001b[43mconverter\u001b[49m\u001b[43m[\u001b[49m\u001b[38;5;241;43m0\u001b[39;49m\u001b[43m:\u001b[49m\u001b[43m,\u001b[49m\u001b[43m \u001b[49m\u001b[43m:\u001b[49m\u001b[38;5;241;43m-\u001b[39;49m\u001b[38;5;241;43m1\u001b[39;49m\u001b[43m]\u001b[49m\u001b[43m \u001b[49m\u001b[38;5;241;43m==\u001b[39;49m\u001b[43m \u001b[49m\u001b[43mrules\u001b[49m\u001b[43m[\u001b[49m\u001b[43mi\u001b[49m\u001b[43m]\u001b[49m\u001b[43m[\u001b[49m\u001b[43m:\u001b[49m\u001b[38;5;241;43m-\u001b[39;49m\u001b[38;5;241;43m1\u001b[39;49m\u001b[43m]\u001b[49m\u001b[43m,\u001b[49m\u001b[43m \u001b[49m\u001b[43maxis\u001b[49m\u001b[38;5;241;43m=\u001b[39;49m\u001b[38;5;241;43m1\u001b[39;49m\u001b[43m)\u001b[49m\u001b[43m \u001b[49m\u001b[38;5;241;43m==\u001b[39;49m\u001b[43m \u001b[49m\u001b[38;5;241;43m3\u001b[39;49m\u001b[43m)\u001b[49m[\u001b[38;5;241m0\u001b[39m][\u001b[38;5;241m0\u001b[39m]][\u001b[38;5;241m3\u001b[39m]\n\u001b[0;32m     47\u001b[0m \t\u001b[38;5;28;01mif\u001b[39;00m rules[i][\u001b[38;5;241m3\u001b[39m]: strs[\u001b[38;5;28mint\u001b[39m(jnp\u001b[38;5;241m.\u001b[39mfloor(num\u001b[38;5;241m/\u001b[39m\u001b[38;5;241m9\u001b[39m))] \u001b[38;5;241m+\u001b[39m\u001b[38;5;241m=\u001b[39m (num\u001b[38;5;241m%\u001b[39m\u001b[38;5;241m9\u001b[39m)\u001b[38;5;241m.\u001b[39m\u001b[38;5;21m__str__\u001b[39m() \n\u001b[0;32m     48\u001b[0m \u001b[38;5;28;01mreturn\u001b[39;00m \u001b[38;5;124m\"\u001b[39m\u001b[38;5;124mB\u001b[39m\u001b[38;5;124m\"\u001b[39m\u001b[38;5;241m+\u001b[39mstrs[\u001b[38;5;241m0\u001b[39m]\u001b[38;5;241m+\u001b[39m\u001b[38;5;124m\"\u001b[39m\u001b[38;5;124m/S\u001b[39m\u001b[38;5;124m\"\u001b[39m\u001b[38;5;241m+\u001b[39mstrs[\u001b[38;5;241m1\u001b[39m]\n",
      "File \u001b[1;32mc:\\Users\\LAMM\\.conda\\envs\\pytorch_cuda_12_8\\lib\\site-packages\\jax\\_src\\numpy\\lax_numpy.py:3751\u001b[0m, in \u001b[0;36mnonzero\u001b[1;34m(***failed resolving arguments***)\u001b[0m\n\u001b[0;32m   3748\u001b[0m \u001b[38;5;28;01mif\u001b[39;00m arr\u001b[38;5;241m.\u001b[39msize \u001b[38;5;241m==\u001b[39m \u001b[38;5;241m0\u001b[39m \u001b[38;5;129;01mor\u001b[39;00m calculated_size \u001b[38;5;241m==\u001b[39m \u001b[38;5;241m0\u001b[39m:\n\u001b[0;32m   3749\u001b[0m   \u001b[38;5;28;01mreturn\u001b[39;00m \u001b[38;5;28mtuple\u001b[39m(zeros(calculated_size, \u001b[38;5;28mint\u001b[39m) \u001b[38;5;28;01mfor\u001b[39;00m dim \u001b[38;5;129;01min\u001b[39;00m arr\u001b[38;5;241m.\u001b[39mshape)\n\u001b[0;32m   3750\u001b[0m flat_indices \u001b[38;5;241m=\u001b[39m reductions\u001b[38;5;241m.\u001b[39mcumsum(\n\u001b[1;32m-> 3751\u001b[0m     \u001b[43mbincount\u001b[49m\u001b[43m(\u001b[49m\u001b[43mreductions\u001b[49m\u001b[38;5;241;43m.\u001b[39;49m\u001b[43mcumsum\u001b[49m\u001b[43m(\u001b[49m\u001b[43mmask\u001b[49m\u001b[43m)\u001b[49m\u001b[43m,\u001b[49m\u001b[43m \u001b[49m\u001b[43mlength\u001b[49m\u001b[38;5;241;43m=\u001b[39;49m\u001b[43mcalculated_size\u001b[49m\u001b[43m)\u001b[49m)\n\u001b[0;32m   3752\u001b[0m strides: np\u001b[38;5;241m.\u001b[39mndarray \u001b[38;5;241m=\u001b[39m (np\u001b[38;5;241m.\u001b[39mcumprod(arr\u001b[38;5;241m.\u001b[39mshape[::\u001b[38;5;241m-\u001b[39m\u001b[38;5;241m1\u001b[39m])[::\u001b[38;5;241m-\u001b[39m\u001b[38;5;241m1\u001b[39m] \u001b[38;5;241m/\u001b[39m\u001b[38;5;241m/\u001b[39m arr\u001b[38;5;241m.\u001b[39mshape)\u001b[38;5;241m.\u001b[39mastype(flat_indices\u001b[38;5;241m.\u001b[39mdtype)\n\u001b[0;32m   3753\u001b[0m out \u001b[38;5;241m=\u001b[39m \u001b[38;5;28mtuple\u001b[39m((flat_indices \u001b[38;5;241m/\u001b[39m\u001b[38;5;241m/\u001b[39m stride) \u001b[38;5;241m%\u001b[39m size \u001b[38;5;28;01mfor\u001b[39;00m stride, size \u001b[38;5;129;01min\u001b[39;00m \u001b[38;5;28mzip\u001b[39m(strides, arr\u001b[38;5;241m.\u001b[39mshape))\n",
      "File \u001b[1;32mc:\\Users\\LAMM\\.conda\\envs\\pytorch_cuda_12_8\\lib\\site-packages\\jax\\_src\\numpy\\lax_numpy.py:2982\u001b[0m, in \u001b[0;36mbincount\u001b[1;34m(x, weights, minlength, length)\u001b[0m\n\u001b[0;32m   2980\u001b[0m \u001b[38;5;28;01melif\u001b[39;00m np\u001b[38;5;241m.\u001b[39mshape(x) \u001b[38;5;241m!=\u001b[39m np\u001b[38;5;241m.\u001b[39mshape(weights):\n\u001b[0;32m   2981\u001b[0m   \u001b[38;5;28;01mraise\u001b[39;00m \u001b[38;5;167;01mValueError\u001b[39;00m(\u001b[38;5;124m\"\u001b[39m\u001b[38;5;124mshape of weights must match shape of x.\u001b[39m\u001b[38;5;124m\"\u001b[39m)\n\u001b[1;32m-> 2982\u001b[0m \u001b[38;5;28;01mreturn\u001b[39;00m \u001b[43mzeros\u001b[49m\u001b[43m(\u001b[49m\u001b[43mlength\u001b[49m\u001b[43m,\u001b[49m\u001b[43m \u001b[49m\u001b[43m_dtype\u001b[49m\u001b[43m(\u001b[49m\u001b[43mweights\u001b[49m\u001b[43m)\u001b[49m\u001b[43m)\u001b[49m\u001b[38;5;241m.\u001b[39mat[clip(x, \u001b[38;5;241m0\u001b[39m)]\u001b[38;5;241m.\u001b[39madd(weights, mode\u001b[38;5;241m=\u001b[39m\u001b[38;5;124m'\u001b[39m\u001b[38;5;124mdrop\u001b[39m\u001b[38;5;124m'\u001b[39m)\n",
      "File \u001b[1;32mc:\\Users\\LAMM\\.conda\\envs\\pytorch_cuda_12_8\\lib\\site-packages\\jax\\_src\\numpy\\array_creation.py:83\u001b[0m, in \u001b[0;36mzeros\u001b[1;34m(shape, dtype, device)\u001b[0m\n\u001b[0;32m     81\u001b[0m dtypes\u001b[38;5;241m.\u001b[39mcheck_user_dtype_supported(dtype, \u001b[38;5;124m\"\u001b[39m\u001b[38;5;124mzeros\u001b[39m\u001b[38;5;124m\"\u001b[39m)\n\u001b[0;32m     82\u001b[0m shape \u001b[38;5;241m=\u001b[39m canonicalize_shape(shape)\n\u001b[1;32m---> 83\u001b[0m \u001b[38;5;28;01mreturn\u001b[39;00m \u001b[43mlax\u001b[49m\u001b[38;5;241;43m.\u001b[39;49m\u001b[43mfull\u001b[49m\u001b[43m(\u001b[49m\u001b[43mshape\u001b[49m\u001b[43m,\u001b[49m\u001b[43m \u001b[49m\u001b[38;5;241;43m0\u001b[39;49m\u001b[43m,\u001b[49m\u001b[43m \u001b[49m\u001b[43mdtypes\u001b[49m\u001b[38;5;241;43m.\u001b[39;49m\u001b[43mjax_dtype\u001b[49m\u001b[43m(\u001b[49m\u001b[43mdtype\u001b[49m\u001b[43m)\u001b[49m\u001b[43m,\u001b[49m\u001b[43m \u001b[49m\u001b[43msharding\u001b[49m\u001b[38;5;241;43m=\u001b[39;49m\u001b[43mutil\u001b[49m\u001b[38;5;241;43m.\u001b[39;49m\u001b[43mnormalize_device_to_sharding\u001b[49m\u001b[43m(\u001b[49m\u001b[43mdevice\u001b[49m\u001b[43m)\u001b[49m\u001b[43m)\u001b[49m\n",
      "File \u001b[1;32mc:\\Users\\LAMM\\.conda\\envs\\pytorch_cuda_12_8\\lib\\site-packages\\jax\\_src\\lax\\lax.py:3345\u001b[0m, in \u001b[0;36mfull\u001b[1;34m(shape, fill_value, dtype, sharding)\u001b[0m\n\u001b[0;32m   3343\u001b[0m weak_type \u001b[38;5;241m=\u001b[39m dtype \u001b[38;5;129;01mis\u001b[39;00m \u001b[38;5;28;01mNone\u001b[39;00m \u001b[38;5;129;01mand\u001b[39;00m dtypes\u001b[38;5;241m.\u001b[39mis_weakly_typed(fill_value)\n\u001b[0;32m   3344\u001b[0m dtype \u001b[38;5;241m=\u001b[39m dtypes\u001b[38;5;241m.\u001b[39mcanonicalize_dtype(dtype \u001b[38;5;129;01mor\u001b[39;00m _dtype(fill_value))\n\u001b[1;32m-> 3345\u001b[0m fill_value \u001b[38;5;241m=\u001b[39m \u001b[43m_convert_element_type\u001b[49m\u001b[43m(\u001b[49m\u001b[43mfill_value\u001b[49m\u001b[43m,\u001b[49m\u001b[43m \u001b[49m\u001b[43mdtype\u001b[49m\u001b[43m,\u001b[49m\u001b[43m \u001b[49m\u001b[43mweak_type\u001b[49m\u001b[43m)\u001b[49m\n\u001b[0;32m   3346\u001b[0m \u001b[38;5;28;01mif\u001b[39;00m (sharding \u001b[38;5;129;01mis\u001b[39;00m \u001b[38;5;129;01mnot\u001b[39;00m \u001b[38;5;28;01mNone\u001b[39;00m \u001b[38;5;129;01mand\u001b[39;00m \u001b[38;5;129;01mnot\u001b[39;00m \u001b[38;5;28misinstance\u001b[39m(sharding, PmapSharding) \u001b[38;5;129;01mand\u001b[39;00m\n\u001b[0;32m   3347\u001b[0m     \u001b[38;5;28misinstance\u001b[39m(fill_value, array\u001b[38;5;241m.\u001b[39mArrayImpl) \u001b[38;5;129;01mand\u001b[39;00m sharding\u001b[38;5;241m.\u001b[39m_is_concrete):\n\u001b[0;32m   3348\u001b[0m   broadcast_shape \u001b[38;5;241m=\u001b[39m sharding\u001b[38;5;241m.\u001b[39mshard_shape(shape)\n",
      "File \u001b[1;32mc:\\Users\\LAMM\\.conda\\envs\\pytorch_cuda_12_8\\lib\\site-packages\\jax\\_src\\lax\\lax.py:1726\u001b[0m, in \u001b[0;36m_convert_element_type\u001b[1;34m(operand, new_dtype, weak_type, sharding, warn_on_complex_to_real_cast)\u001b[0m\n\u001b[0;32m   1724\u001b[0m   \u001b[38;5;28;01mreturn\u001b[39;00m operand\n\u001b[0;32m   1725\u001b[0m \u001b[38;5;28;01melse\u001b[39;00m:\n\u001b[1;32m-> 1726\u001b[0m   \u001b[38;5;28;01mreturn\u001b[39;00m \u001b[43mconvert_element_type_p\u001b[49m\u001b[38;5;241;43m.\u001b[39;49m\u001b[43mbind\u001b[49m\u001b[43m(\u001b[49m\n\u001b[0;32m   1727\u001b[0m \u001b[43m      \u001b[49m\u001b[43moperand\u001b[49m\u001b[43m,\u001b[49m\u001b[43m \u001b[49m\u001b[43mnew_dtype\u001b[49m\u001b[38;5;241;43m=\u001b[39;49m\u001b[43mnew_dtype\u001b[49m\u001b[43m,\u001b[49m\u001b[43m \u001b[49m\u001b[43mweak_type\u001b[49m\u001b[38;5;241;43m=\u001b[39;49m\u001b[38;5;28;43mbool\u001b[39;49m\u001b[43m(\u001b[49m\u001b[43mweak_type\u001b[49m\u001b[43m)\u001b[49m\u001b[43m,\u001b[49m\n\u001b[0;32m   1728\u001b[0m \u001b[43m      \u001b[49m\u001b[43msharding\u001b[49m\u001b[38;5;241;43m=\u001b[39;49m\u001b[43msharding\u001b[49m\u001b[43m)\u001b[49m\n",
      "File \u001b[1;32mc:\\Users\\LAMM\\.conda\\envs\\pytorch_cuda_12_8\\lib\\site-packages\\jax\\_src\\core.py:536\u001b[0m, in \u001b[0;36mPrimitive.bind\u001b[1;34m(self, *args, **params)\u001b[0m\n\u001b[0;32m    534\u001b[0m \u001b[38;5;28;01mdef\u001b[39;00m\u001b[38;5;250m \u001b[39m\u001b[38;5;21mbind\u001b[39m(\u001b[38;5;28mself\u001b[39m, \u001b[38;5;241m*\u001b[39margs, \u001b[38;5;241m*\u001b[39m\u001b[38;5;241m*\u001b[39mparams):\n\u001b[0;32m    535\u001b[0m   args \u001b[38;5;241m=\u001b[39m args \u001b[38;5;28;01mif\u001b[39;00m \u001b[38;5;28mself\u001b[39m\u001b[38;5;241m.\u001b[39mskip_canonicalization \u001b[38;5;28;01melse\u001b[39;00m \u001b[38;5;28mmap\u001b[39m(canonicalize_value, args)\n\u001b[1;32m--> 536\u001b[0m   \u001b[38;5;28;01mreturn\u001b[39;00m \u001b[38;5;28mself\u001b[39m\u001b[38;5;241m.\u001b[39m_true_bind(\u001b[38;5;241m*\u001b[39margs, \u001b[38;5;241m*\u001b[39m\u001b[38;5;241m*\u001b[39mparams)\n",
      "File \u001b[1;32mc:\\Users\\LAMM\\.conda\\envs\\pytorch_cuda_12_8\\lib\\site-packages\\jax\\_src\\core.py:552\u001b[0m, in \u001b[0;36mPrimitive._true_bind\u001b[1;34m(self, *args, **params)\u001b[0m\n\u001b[0;32m    550\u001b[0m trace_ctx\u001b[38;5;241m.\u001b[39mset_trace(eval_trace)\n\u001b[0;32m    551\u001b[0m \u001b[38;5;28;01mtry\u001b[39;00m:\n\u001b[1;32m--> 552\u001b[0m   \u001b[38;5;28;01mreturn\u001b[39;00m \u001b[38;5;28;43mself\u001b[39;49m\u001b[38;5;241;43m.\u001b[39;49m\u001b[43mbind_with_trace\u001b[49m\u001b[43m(\u001b[49m\u001b[43mprev_trace\u001b[49m\u001b[43m,\u001b[49m\u001b[43m \u001b[49m\u001b[43margs\u001b[49m\u001b[43m,\u001b[49m\u001b[43m \u001b[49m\u001b[43mparams\u001b[49m\u001b[43m)\u001b[49m\n\u001b[0;32m    553\u001b[0m \u001b[38;5;28;01mfinally\u001b[39;00m:\n\u001b[0;32m    554\u001b[0m   trace_ctx\u001b[38;5;241m.\u001b[39mset_trace(prev_trace)\n",
      "File \u001b[1;32mc:\\Users\\LAMM\\.conda\\envs\\pytorch_cuda_12_8\\lib\\site-packages\\jax\\_src\\lax\\lax.py:4902\u001b[0m, in \u001b[0;36m_convert_element_type_bind_with_trace\u001b[1;34m(trace, args, params)\u001b[0m\n\u001b[0;32m   4900\u001b[0m \u001b[38;5;28;01mdef\u001b[39;00m\u001b[38;5;250m \u001b[39m\u001b[38;5;21m_convert_element_type_bind_with_trace\u001b[39m(trace, args, params):\n\u001b[0;32m   4901\u001b[0m   sharding \u001b[38;5;241m=\u001b[39m params[\u001b[38;5;124m'\u001b[39m\u001b[38;5;124msharding\u001b[39m\u001b[38;5;124m'\u001b[39m]\n\u001b[1;32m-> 4902\u001b[0m   operand \u001b[38;5;241m=\u001b[39m \u001b[43mcore\u001b[49m\u001b[38;5;241;43m.\u001b[39;49m\u001b[43mPrimitive\u001b[49m\u001b[38;5;241;43m.\u001b[39;49m\u001b[43mbind_with_trace\u001b[49m\u001b[43m(\u001b[49m\u001b[43mconvert_element_type_p\u001b[49m\u001b[43m,\u001b[49m\u001b[43m \u001b[49m\u001b[43mtrace\u001b[49m\u001b[43m,\u001b[49m\u001b[43m \u001b[49m\u001b[43margs\u001b[49m\u001b[43m,\u001b[49m\u001b[43m \u001b[49m\u001b[43mparams\u001b[49m\u001b[43m)\u001b[49m\n\u001b[0;32m   4903\u001b[0m   \u001b[38;5;28;01mif\u001b[39;00m sharding \u001b[38;5;129;01mis\u001b[39;00m \u001b[38;5;129;01mnot\u001b[39;00m \u001b[38;5;28;01mNone\u001b[39;00m \u001b[38;5;129;01mand\u001b[39;00m sharding\u001b[38;5;241m.\u001b[39m_is_concrete:\n\u001b[0;32m   4904\u001b[0m     \u001b[38;5;28;01mwith\u001b[39;00m core\u001b[38;5;241m.\u001b[39mset_current_trace(trace):\n",
      "File \u001b[1;32mc:\\Users\\LAMM\\.conda\\envs\\pytorch_cuda_12_8\\lib\\site-packages\\jax\\_src\\core.py:562\u001b[0m, in \u001b[0;36mPrimitive.bind_with_trace\u001b[1;34m(self, trace, args, params)\u001b[0m\n\u001b[0;32m    559\u001b[0m   \u001b[38;5;28;01mwith\u001b[39;00m set_current_trace(trace):\n\u001b[0;32m    560\u001b[0m     \u001b[38;5;28;01mreturn\u001b[39;00m \u001b[38;5;28mself\u001b[39m\u001b[38;5;241m.\u001b[39mto_lojax(\u001b[38;5;241m*\u001b[39margs, \u001b[38;5;241m*\u001b[39m\u001b[38;5;241m*\u001b[39mparams)  \u001b[38;5;66;03m# type: ignore\u001b[39;00m\n\u001b[1;32m--> 562\u001b[0m \u001b[38;5;28;01mreturn\u001b[39;00m \u001b[43mtrace\u001b[49m\u001b[38;5;241;43m.\u001b[39;49m\u001b[43mprocess_primitive\u001b[49m\u001b[43m(\u001b[49m\u001b[38;5;28;43mself\u001b[39;49m\u001b[43m,\u001b[49m\u001b[43m \u001b[49m\u001b[43margs\u001b[49m\u001b[43m,\u001b[49m\u001b[43m \u001b[49m\u001b[43mparams\u001b[49m\u001b[43m)\u001b[49m\n",
      "File \u001b[1;32mc:\\Users\\LAMM\\.conda\\envs\\pytorch_cuda_12_8\\lib\\site-packages\\jax\\_src\\core.py:1066\u001b[0m, in \u001b[0;36mEvalTrace.process_primitive\u001b[1;34m(self, primitive, args, params)\u001b[0m\n\u001b[0;32m   1064\u001b[0m args \u001b[38;5;241m=\u001b[39m \u001b[38;5;28mmap\u001b[39m(full_lower, args)\n\u001b[0;32m   1065\u001b[0m check_eval_args(args)\n\u001b[1;32m-> 1066\u001b[0m \u001b[38;5;28;01mreturn\u001b[39;00m primitive\u001b[38;5;241m.\u001b[39mimpl(\u001b[38;5;241m*\u001b[39margs, \u001b[38;5;241m*\u001b[39m\u001b[38;5;241m*\u001b[39mparams)\n",
      "File \u001b[1;32mc:\\Users\\LAMM\\.conda\\envs\\pytorch_cuda_12_8\\lib\\site-packages\\jax\\_src\\dispatch.py:91\u001b[0m, in \u001b[0;36mapply_primitive\u001b[1;34m(prim, *args, **params)\u001b[0m\n\u001b[0;32m     89\u001b[0m prev \u001b[38;5;241m=\u001b[39m lib\u001b[38;5;241m.\u001b[39mjax_jit\u001b[38;5;241m.\u001b[39mswap_thread_local_state_disable_jit(\u001b[38;5;28;01mFalse\u001b[39;00m)\n\u001b[0;32m     90\u001b[0m \u001b[38;5;28;01mtry\u001b[39;00m:\n\u001b[1;32m---> 91\u001b[0m   outs \u001b[38;5;241m=\u001b[39m \u001b[43mfun\u001b[49m\u001b[43m(\u001b[49m\u001b[38;5;241;43m*\u001b[39;49m\u001b[43margs\u001b[49m\u001b[43m)\u001b[49m\n\u001b[0;32m     92\u001b[0m \u001b[38;5;28;01mfinally\u001b[39;00m:\n\u001b[0;32m     93\u001b[0m   lib\u001b[38;5;241m.\u001b[39mjax_jit\u001b[38;5;241m.\u001b[39mswap_thread_local_state_disable_jit(prev)\n",
      "\u001b[1;31mKeyboardInterrupt\u001b[0m: "
     ]
    }
   ],
   "source": [
    "ITERATIONS_SET = [100]\n",
    "GRID_SIZE_SET = [32]\n",
    "NUM_REPEAT = 50\n",
    "EXPERIMENT_NAME = \"test_experiment\"\n",
    "\n",
    "for iters in ITERATIONS_SET:\n",
    "    for grid_sz in GRID_SIZE_SET:\n",
    "        print(f\"RUNNING EXPERIMENT {EXPERIMENT_NAME} WITH {iters} ITERATIONS AND {grid_sz} SIZE GRID\")\n",
    "        repeat_experiment(f\"{EXPERIMENT_NAME}_{iters}ITERS_{grid_sz}GRID\", NUM_REPEAT, iters, grid_sz, ArbitraryRulesetMutator, [conway(), seeds()], surface_to_vol, 10, 10, 2/3)"
   ]
  }
 ],
 "metadata": {
  "kernelspec": {
   "display_name": "pytorch_cuda_12_8",
   "language": "python",
   "name": "python3"
  },
  "language_info": {
   "codemirror_mode": {
    "name": "ipython",
    "version": 3
   },
   "file_extension": ".py",
   "mimetype": "text/x-python",
   "name": "python",
   "nbconvert_exporter": "python",
   "pygments_lexer": "ipython3",
   "version": "3.10.18"
  }
 },
 "nbformat": 4,
 "nbformat_minor": 2
}
